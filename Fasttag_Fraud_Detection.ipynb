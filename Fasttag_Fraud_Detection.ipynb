{
  "cells": [
    {
      "cell_type": "code",
      "execution_count": 109,
      "metadata": {
        "id": "ngsFjZdcqc5j"
      },
      "outputs": [],
      "source": [
        "import numpy as np\n",
        "import pandas as pd\n",
        "import matplotlib.pyplot as plt\n",
        "import tensorflow as tf"
      ]
    },
    {
      "cell_type": "code",
      "execution_count": 110,
      "metadata": {},
      "outputs": [],
      "source": [
        "RANDOM_STATE = 24\n",
        "np.random.seed(RANDOM_STATE)\n",
        "tf.random.set_seed(RANDOM_STATE)\n",
        "EPOCHS = 20\n",
        "TEST_SIZE = 0.2\n",
        "BATCH_SIZE = 32"
      ]
    },
    {
      "cell_type": "code",
      "execution_count": 111,
      "metadata": {
        "colab": {
          "base_uri": "https://localhost:8080/",
          "height": 617
        },
        "id": "Bmlbhto_rhmf",
        "outputId": "0893212b-c592-4fd1-ed71-2ad820576d26"
      },
      "outputs": [
        {
          "data": {
            "text/html": [
              "<div>\n",
              "<style scoped>\n",
              "    .dataframe tbody tr th:only-of-type {\n",
              "        vertical-align: middle;\n",
              "    }\n",
              "\n",
              "    .dataframe tbody tr th {\n",
              "        vertical-align: top;\n",
              "    }\n",
              "\n",
              "    .dataframe thead th {\n",
              "        text-align: right;\n",
              "    }\n",
              "</style>\n",
              "<table border=\"1\" class=\"dataframe\">\n",
              "  <thead>\n",
              "    <tr style=\"text-align: right;\">\n",
              "      <th></th>\n",
              "      <th>Transaction_ID</th>\n",
              "      <th>Timestamp</th>\n",
              "      <th>Vehicle_Type</th>\n",
              "      <th>FastagID</th>\n",
              "      <th>TollBoothID</th>\n",
              "      <th>Lane_Type</th>\n",
              "      <th>Vehicle_Dimensions</th>\n",
              "      <th>Transaction_Amount</th>\n",
              "      <th>Amount_paid</th>\n",
              "      <th>Geographical_Location</th>\n",
              "      <th>Vehicle_Speed</th>\n",
              "      <th>Vehicle_Plate_Number</th>\n",
              "      <th>Fraud_indicator</th>\n",
              "    </tr>\n",
              "  </thead>\n",
              "  <tbody>\n",
              "    <tr>\n",
              "      <th>0</th>\n",
              "      <td>1</td>\n",
              "      <td>1/6/2023 11:20</td>\n",
              "      <td>Bus</td>\n",
              "      <td>FTG-001-ABC-121</td>\n",
              "      <td>A-101</td>\n",
              "      <td>Express</td>\n",
              "      <td>Large</td>\n",
              "      <td>350</td>\n",
              "      <td>120</td>\n",
              "      <td>13.059816123454882, 77.77068662374292</td>\n",
              "      <td>65</td>\n",
              "      <td>KA11AB1234</td>\n",
              "      <td>Fraud</td>\n",
              "    </tr>\n",
              "    <tr>\n",
              "      <th>1</th>\n",
              "      <td>2</td>\n",
              "      <td>1/7/2023 14:55</td>\n",
              "      <td>Car</td>\n",
              "      <td>FTG-002-XYZ-451</td>\n",
              "      <td>B-102</td>\n",
              "      <td>Regular</td>\n",
              "      <td>Small</td>\n",
              "      <td>120</td>\n",
              "      <td>100</td>\n",
              "      <td>13.059816123454882, 77.77068662374292</td>\n",
              "      <td>78</td>\n",
              "      <td>KA66CD5678</td>\n",
              "      <td>Fraud</td>\n",
              "    </tr>\n",
              "    <tr>\n",
              "      <th>2</th>\n",
              "      <td>3</td>\n",
              "      <td>1/8/2023 18:25</td>\n",
              "      <td>Motorcycle</td>\n",
              "      <td>NaN</td>\n",
              "      <td>D-104</td>\n",
              "      <td>Regular</td>\n",
              "      <td>Small</td>\n",
              "      <td>0</td>\n",
              "      <td>0</td>\n",
              "      <td>13.059816123454882, 77.77068662374292</td>\n",
              "      <td>53</td>\n",
              "      <td>KA88EF9012</td>\n",
              "      <td>Not Fraud</td>\n",
              "    </tr>\n",
              "    <tr>\n",
              "      <th>3</th>\n",
              "      <td>4</td>\n",
              "      <td>1/9/2023 2:05</td>\n",
              "      <td>Truck</td>\n",
              "      <td>FTG-044-LMN-322</td>\n",
              "      <td>C-103</td>\n",
              "      <td>Regular</td>\n",
              "      <td>Large</td>\n",
              "      <td>350</td>\n",
              "      <td>120</td>\n",
              "      <td>13.059816123454882, 77.77068662374292</td>\n",
              "      <td>92</td>\n",
              "      <td>KA11GH3456</td>\n",
              "      <td>Fraud</td>\n",
              "    </tr>\n",
              "    <tr>\n",
              "      <th>4</th>\n",
              "      <td>5</td>\n",
              "      <td>1/10/2023 6:35</td>\n",
              "      <td>Van</td>\n",
              "      <td>FTG-505-DEF-652</td>\n",
              "      <td>B-102</td>\n",
              "      <td>Express</td>\n",
              "      <td>Medium</td>\n",
              "      <td>140</td>\n",
              "      <td>100</td>\n",
              "      <td>13.059816123454882, 77.77068662374292</td>\n",
              "      <td>60</td>\n",
              "      <td>KA44IJ6789</td>\n",
              "      <td>Fraud</td>\n",
              "    </tr>\n",
              "    <tr>\n",
              "      <th>...</th>\n",
              "      <td>...</td>\n",
              "      <td>...</td>\n",
              "      <td>...</td>\n",
              "      <td>...</td>\n",
              "      <td>...</td>\n",
              "      <td>...</td>\n",
              "      <td>...</td>\n",
              "      <td>...</td>\n",
              "      <td>...</td>\n",
              "      <td>...</td>\n",
              "      <td>...</td>\n",
              "      <td>...</td>\n",
              "      <td>...</td>\n",
              "    </tr>\n",
              "    <tr>\n",
              "      <th>4995</th>\n",
              "      <td>4996</td>\n",
              "      <td>1/1/2023 22:18</td>\n",
              "      <td>Truck</td>\n",
              "      <td>FTG-445-EDC-765</td>\n",
              "      <td>C-103</td>\n",
              "      <td>Regular</td>\n",
              "      <td>Large</td>\n",
              "      <td>330</td>\n",
              "      <td>330</td>\n",
              "      <td>13.21331620748757, 77.55413526894684</td>\n",
              "      <td>81</td>\n",
              "      <td>KA74ST0123</td>\n",
              "      <td>Not Fraud</td>\n",
              "    </tr>\n",
              "    <tr>\n",
              "      <th>4996</th>\n",
              "      <td>4997</td>\n",
              "      <td>1/17/2023 13:43</td>\n",
              "      <td>Van</td>\n",
              "      <td>FTG-446-LMK-432</td>\n",
              "      <td>B-102</td>\n",
              "      <td>Express</td>\n",
              "      <td>Medium</td>\n",
              "      <td>125</td>\n",
              "      <td>125</td>\n",
              "      <td>13.21331620748757, 77.55413526894684</td>\n",
              "      <td>64</td>\n",
              "      <td>KA38UV3456</td>\n",
              "      <td>Not Fraud</td>\n",
              "    </tr>\n",
              "    <tr>\n",
              "      <th>4997</th>\n",
              "      <td>4998</td>\n",
              "      <td>2/5/2023 5:08</td>\n",
              "      <td>Sedan</td>\n",
              "      <td>FTG-447-PLN-109</td>\n",
              "      <td>A-101</td>\n",
              "      <td>Regular</td>\n",
              "      <td>Medium</td>\n",
              "      <td>115</td>\n",
              "      <td>115</td>\n",
              "      <td>13.21331620748757, 77.55413526894684</td>\n",
              "      <td>93</td>\n",
              "      <td>KA33WX6789</td>\n",
              "      <td>Not Fraud</td>\n",
              "    </tr>\n",
              "    <tr>\n",
              "      <th>4998</th>\n",
              "      <td>4999</td>\n",
              "      <td>2/20/2023 20:34</td>\n",
              "      <td>SUV</td>\n",
              "      <td>FTG-458-VFR-876</td>\n",
              "      <td>B-102</td>\n",
              "      <td>Express</td>\n",
              "      <td>Large</td>\n",
              "      <td>145</td>\n",
              "      <td>145</td>\n",
              "      <td>13.21331620748757, 77.55413526894684</td>\n",
              "      <td>57</td>\n",
              "      <td>KA35YZ0123</td>\n",
              "      <td>Not Fraud</td>\n",
              "    </tr>\n",
              "    <tr>\n",
              "      <th>4999</th>\n",
              "      <td>5000</td>\n",
              "      <td>3/10/2023 0:59</td>\n",
              "      <td>Bus</td>\n",
              "      <td>FTG-459-WSX-543</td>\n",
              "      <td>C-103</td>\n",
              "      <td>Regular</td>\n",
              "      <td>Large</td>\n",
              "      <td>330</td>\n",
              "      <td>125</td>\n",
              "      <td>13.21331620748757, 77.55413526894684</td>\n",
              "      <td>86</td>\n",
              "      <td>KA37AB3456</td>\n",
              "      <td>Fraud</td>\n",
              "    </tr>\n",
              "  </tbody>\n",
              "</table>\n",
              "<p>5000 rows × 13 columns</p>\n",
              "</div>"
            ],
            "text/plain": [
              "      Transaction_ID        Timestamp Vehicle_Type         FastagID  \\\n",
              "0                  1   1/6/2023 11:20         Bus   FTG-001-ABC-121   \n",
              "1                  2   1/7/2023 14:55          Car  FTG-002-XYZ-451   \n",
              "2                  3   1/8/2023 18:25   Motorcycle              NaN   \n",
              "3                  4    1/9/2023 2:05        Truck  FTG-044-LMN-322   \n",
              "4                  5   1/10/2023 6:35          Van  FTG-505-DEF-652   \n",
              "...              ...              ...          ...              ...   \n",
              "4995            4996   1/1/2023 22:18        Truck  FTG-445-EDC-765   \n",
              "4996            4997  1/17/2023 13:43          Van  FTG-446-LMK-432   \n",
              "4997            4998    2/5/2023 5:08        Sedan  FTG-447-PLN-109   \n",
              "4998            4999  2/20/2023 20:34          SUV  FTG-458-VFR-876   \n",
              "4999            5000   3/10/2023 0:59         Bus   FTG-459-WSX-543   \n",
              "\n",
              "     TollBoothID Lane_Type Vehicle_Dimensions  Transaction_Amount  \\\n",
              "0          A-101   Express              Large                 350   \n",
              "1          B-102   Regular              Small                 120   \n",
              "2          D-104   Regular              Small                   0   \n",
              "3          C-103   Regular              Large                 350   \n",
              "4          B-102   Express             Medium                 140   \n",
              "...          ...       ...                ...                 ...   \n",
              "4995       C-103   Regular              Large                 330   \n",
              "4996       B-102   Express             Medium                 125   \n",
              "4997       A-101   Regular             Medium                 115   \n",
              "4998       B-102   Express              Large                 145   \n",
              "4999       C-103   Regular              Large                 330   \n",
              "\n",
              "      Amount_paid                  Geographical_Location  Vehicle_Speed  \\\n",
              "0             120  13.059816123454882, 77.77068662374292             65   \n",
              "1             100  13.059816123454882, 77.77068662374292             78   \n",
              "2               0  13.059816123454882, 77.77068662374292             53   \n",
              "3             120  13.059816123454882, 77.77068662374292             92   \n",
              "4             100  13.059816123454882, 77.77068662374292             60   \n",
              "...           ...                                    ...            ...   \n",
              "4995          330   13.21331620748757, 77.55413526894684             81   \n",
              "4996          125   13.21331620748757, 77.55413526894684             64   \n",
              "4997          115   13.21331620748757, 77.55413526894684             93   \n",
              "4998          145   13.21331620748757, 77.55413526894684             57   \n",
              "4999          125   13.21331620748757, 77.55413526894684             86   \n",
              "\n",
              "     Vehicle_Plate_Number Fraud_indicator  \n",
              "0              KA11AB1234           Fraud  \n",
              "1              KA66CD5678           Fraud  \n",
              "2              KA88EF9012       Not Fraud  \n",
              "3              KA11GH3456           Fraud  \n",
              "4              KA44IJ6789           Fraud  \n",
              "...                   ...             ...  \n",
              "4995           KA74ST0123       Not Fraud  \n",
              "4996           KA38UV3456       Not Fraud  \n",
              "4997           KA33WX6789       Not Fraud  \n",
              "4998           KA35YZ0123       Not Fraud  \n",
              "4999           KA37AB3456           Fraud  \n",
              "\n",
              "[5000 rows x 13 columns]"
            ]
          },
          "execution_count": 111,
          "metadata": {},
          "output_type": "execute_result"
        }
      ],
      "source": [
        "df=pd.read_csv(\"FastagFraudDetection.csv\")\n",
        "df"
      ]
    },
    {
      "cell_type": "markdown",
      "metadata": {
        "id": "na_SulMXrsbi"
      },
      "source": [
        "### Getting the information about the dataset"
      ]
    },
    {
      "cell_type": "code",
      "execution_count": 112,
      "metadata": {
        "colab": {
          "base_uri": "https://localhost:8080/"
        },
        "id": "f55orfcCrrLD",
        "outputId": "46b9d653-8342-4d45-82d1-97e1c710f3db"
      },
      "outputs": [
        {
          "name": "stdout",
          "output_type": "stream",
          "text": [
            "<class 'pandas.core.frame.DataFrame'>\n",
            "RangeIndex: 5000 entries, 0 to 4999\n",
            "Data columns (total 13 columns):\n",
            " #   Column                 Non-Null Count  Dtype \n",
            "---  ------                 --------------  ----- \n",
            " 0   Transaction_ID         5000 non-null   int64 \n",
            " 1   Timestamp              5000 non-null   object\n",
            " 2   Vehicle_Type           5000 non-null   object\n",
            " 3   FastagID               4451 non-null   object\n",
            " 4   TollBoothID            5000 non-null   object\n",
            " 5   Lane_Type              5000 non-null   object\n",
            " 6   Vehicle_Dimensions     5000 non-null   object\n",
            " 7   Transaction_Amount     5000 non-null   int64 \n",
            " 8   Amount_paid            5000 non-null   int64 \n",
            " 9   Geographical_Location  5000 non-null   object\n",
            " 10  Vehicle_Speed          5000 non-null   int64 \n",
            " 11  Vehicle_Plate_Number   5000 non-null   object\n",
            " 12  Fraud_indicator        5000 non-null   object\n",
            "dtypes: int64(4), object(9)\n",
            "memory usage: 507.9+ KB\n"
          ]
        }
      ],
      "source": [
        "df.info()"
      ]
    },
    {
      "cell_type": "code",
      "execution_count": 113,
      "metadata": {
        "colab": {
          "base_uri": "https://localhost:8080/"
        },
        "id": "BnGRLvVnr7o9",
        "outputId": "88e33796-7de1-46ab-be3f-bf9de0abe38c"
      },
      "outputs": [
        {
          "data": {
            "text/plain": [
              "(5000, 13)"
            ]
          },
          "execution_count": 113,
          "metadata": {},
          "output_type": "execute_result"
        }
      ],
      "source": [
        "df.shape"
      ]
    },
    {
      "cell_type": "code",
      "execution_count": 114,
      "metadata": {
        "colab": {
          "base_uri": "https://localhost:8080/",
          "height": 1000
        },
        "id": "bHYGdNZQr90Q",
        "outputId": "b7c5a55f-b63c-49a9-e9f9-8b79bbbab8ca"
      },
      "outputs": [
        {
          "data": {
            "text/html": [
              "<div>\n",
              "<style scoped>\n",
              "    .dataframe tbody tr th:only-of-type {\n",
              "        vertical-align: middle;\n",
              "    }\n",
              "\n",
              "    .dataframe tbody tr th {\n",
              "        vertical-align: top;\n",
              "    }\n",
              "\n",
              "    .dataframe thead th {\n",
              "        text-align: right;\n",
              "    }\n",
              "</style>\n",
              "<table border=\"1\" class=\"dataframe\">\n",
              "  <thead>\n",
              "    <tr style=\"text-align: right;\">\n",
              "      <th></th>\n",
              "      <th>Transaction_ID</th>\n",
              "      <th>Timestamp</th>\n",
              "      <th>Vehicle_Type</th>\n",
              "      <th>FastagID</th>\n",
              "      <th>TollBoothID</th>\n",
              "      <th>Lane_Type</th>\n",
              "      <th>Vehicle_Dimensions</th>\n",
              "      <th>Transaction_Amount</th>\n",
              "      <th>Amount_paid</th>\n",
              "      <th>Geographical_Location</th>\n",
              "      <th>Vehicle_Speed</th>\n",
              "      <th>Vehicle_Plate_Number</th>\n",
              "      <th>Fraud_indicator</th>\n",
              "    </tr>\n",
              "  </thead>\n",
              "  <tbody>\n",
              "    <tr>\n",
              "      <th>0</th>\n",
              "      <td>1</td>\n",
              "      <td>1/6/2023 11:20</td>\n",
              "      <td>Bus</td>\n",
              "      <td>FTG-001-ABC-121</td>\n",
              "      <td>A-101</td>\n",
              "      <td>Express</td>\n",
              "      <td>Large</td>\n",
              "      <td>350</td>\n",
              "      <td>120</td>\n",
              "      <td>13.059816123454882, 77.77068662374292</td>\n",
              "      <td>65</td>\n",
              "      <td>KA11AB1234</td>\n",
              "      <td>Fraud</td>\n",
              "    </tr>\n",
              "    <tr>\n",
              "      <th>1</th>\n",
              "      <td>2</td>\n",
              "      <td>1/7/2023 14:55</td>\n",
              "      <td>Car</td>\n",
              "      <td>FTG-002-XYZ-451</td>\n",
              "      <td>B-102</td>\n",
              "      <td>Regular</td>\n",
              "      <td>Small</td>\n",
              "      <td>120</td>\n",
              "      <td>100</td>\n",
              "      <td>13.059816123454882, 77.77068662374292</td>\n",
              "      <td>78</td>\n",
              "      <td>KA66CD5678</td>\n",
              "      <td>Fraud</td>\n",
              "    </tr>\n",
              "    <tr>\n",
              "      <th>2</th>\n",
              "      <td>3</td>\n",
              "      <td>1/8/2023 18:25</td>\n",
              "      <td>Motorcycle</td>\n",
              "      <td>NaN</td>\n",
              "      <td>D-104</td>\n",
              "      <td>Regular</td>\n",
              "      <td>Small</td>\n",
              "      <td>0</td>\n",
              "      <td>0</td>\n",
              "      <td>13.059816123454882, 77.77068662374292</td>\n",
              "      <td>53</td>\n",
              "      <td>KA88EF9012</td>\n",
              "      <td>Not Fraud</td>\n",
              "    </tr>\n",
              "    <tr>\n",
              "      <th>3</th>\n",
              "      <td>4</td>\n",
              "      <td>1/9/2023 2:05</td>\n",
              "      <td>Truck</td>\n",
              "      <td>FTG-044-LMN-322</td>\n",
              "      <td>C-103</td>\n",
              "      <td>Regular</td>\n",
              "      <td>Large</td>\n",
              "      <td>350</td>\n",
              "      <td>120</td>\n",
              "      <td>13.059816123454882, 77.77068662374292</td>\n",
              "      <td>92</td>\n",
              "      <td>KA11GH3456</td>\n",
              "      <td>Fraud</td>\n",
              "    </tr>\n",
              "    <tr>\n",
              "      <th>4</th>\n",
              "      <td>5</td>\n",
              "      <td>1/10/2023 6:35</td>\n",
              "      <td>Van</td>\n",
              "      <td>FTG-505-DEF-652</td>\n",
              "      <td>B-102</td>\n",
              "      <td>Express</td>\n",
              "      <td>Medium</td>\n",
              "      <td>140</td>\n",
              "      <td>100</td>\n",
              "      <td>13.059816123454882, 77.77068662374292</td>\n",
              "      <td>60</td>\n",
              "      <td>KA44IJ6789</td>\n",
              "      <td>Fraud</td>\n",
              "    </tr>\n",
              "    <tr>\n",
              "      <th>5</th>\n",
              "      <td>6</td>\n",
              "      <td>1/11/2023 10:00</td>\n",
              "      <td>Sedan</td>\n",
              "      <td>FTG-066-GHI-987</td>\n",
              "      <td>A-101</td>\n",
              "      <td>Regular</td>\n",
              "      <td>Medium</td>\n",
              "      <td>160</td>\n",
              "      <td>100</td>\n",
              "      <td>13.059816123454882, 77.77068662374292</td>\n",
              "      <td>105</td>\n",
              "      <td>KA77KL0123</td>\n",
              "      <td>Fraud</td>\n",
              "    </tr>\n",
              "    <tr>\n",
              "      <th>6</th>\n",
              "      <td>7</td>\n",
              "      <td>1/12/2023 15:40</td>\n",
              "      <td>SUV</td>\n",
              "      <td>FTG-707-JKL-210</td>\n",
              "      <td>B-102</td>\n",
              "      <td>Express</td>\n",
              "      <td>Large</td>\n",
              "      <td>180</td>\n",
              "      <td>160</td>\n",
              "      <td>13.059816123454882, 77.77068662374292</td>\n",
              "      <td>70</td>\n",
              "      <td>KA22MN4567</td>\n",
              "      <td>Fraud</td>\n",
              "    </tr>\n",
              "    <tr>\n",
              "      <th>7</th>\n",
              "      <td>8</td>\n",
              "      <td>1/13/2023 20:15</td>\n",
              "      <td>Bus</td>\n",
              "      <td>FTG-088-UVW-543</td>\n",
              "      <td>C-103</td>\n",
              "      <td>Regular</td>\n",
              "      <td>Large</td>\n",
              "      <td>350</td>\n",
              "      <td>90</td>\n",
              "      <td>13.059816123454882, 77.77068662374292</td>\n",
              "      <td>88</td>\n",
              "      <td>KA21OP8901</td>\n",
              "      <td>Fraud</td>\n",
              "    </tr>\n",
              "    <tr>\n",
              "      <th>8</th>\n",
              "      <td>9</td>\n",
              "      <td>1/14/2023 1:55</td>\n",
              "      <td>Car</td>\n",
              "      <td>FTG-909-RST-876</td>\n",
              "      <td>A-101</td>\n",
              "      <td>Express</td>\n",
              "      <td>Small</td>\n",
              "      <td>120</td>\n",
              "      <td>0</td>\n",
              "      <td>13.059816123454882, 77.77068662374292</td>\n",
              "      <td>45</td>\n",
              "      <td>KA16QR2345</td>\n",
              "      <td>Fraud</td>\n",
              "    </tr>\n",
              "    <tr>\n",
              "      <th>9</th>\n",
              "      <td>10</td>\n",
              "      <td>1/15/2023 7:30</td>\n",
              "      <td>Motorcycle</td>\n",
              "      <td>NaN</td>\n",
              "      <td>D-104</td>\n",
              "      <td>Regular</td>\n",
              "      <td>Small</td>\n",
              "      <td>0</td>\n",
              "      <td>0</td>\n",
              "      <td>13.059816123454882, 77.77068662374292</td>\n",
              "      <td>72</td>\n",
              "      <td>KA22ST6789</td>\n",
              "      <td>Not Fraud</td>\n",
              "    </tr>\n",
              "    <tr>\n",
              "      <th>10</th>\n",
              "      <td>11</td>\n",
              "      <td>1/16/2023 12:10</td>\n",
              "      <td>Truck</td>\n",
              "      <td>FTG-021-QWE-765</td>\n",
              "      <td>C-103</td>\n",
              "      <td>Express</td>\n",
              "      <td>Large</td>\n",
              "      <td>350</td>\n",
              "      <td>120</td>\n",
              "      <td>13.059816123454882, 77.77068662374292</td>\n",
              "      <td>58</td>\n",
              "      <td>KA12UV0123</td>\n",
              "      <td>Fraud</td>\n",
              "    </tr>\n",
              "    <tr>\n",
              "      <th>11</th>\n",
              "      <td>12</td>\n",
              "      <td>1/17/2023 17:45</td>\n",
              "      <td>Van</td>\n",
              "      <td>FTG-011-ZXC-431</td>\n",
              "      <td>B-102</td>\n",
              "      <td>Regular</td>\n",
              "      <td>Medium</td>\n",
              "      <td>140</td>\n",
              "      <td>120</td>\n",
              "      <td>13.059816123454882, 77.77068662374292</td>\n",
              "      <td>81</td>\n",
              "      <td>KA35WX3454</td>\n",
              "      <td>Fraud</td>\n",
              "    </tr>\n",
              "    <tr>\n",
              "      <th>12</th>\n",
              "      <td>13</td>\n",
              "      <td>1/18/2023 22:20</td>\n",
              "      <td>Sedan</td>\n",
              "      <td>FTG-013-POI-104</td>\n",
              "      <td>A-101</td>\n",
              "      <td>Express</td>\n",
              "      <td>Medium</td>\n",
              "      <td>160</td>\n",
              "      <td>120</td>\n",
              "      <td>13.059816123454882, 77.77068662374292</td>\n",
              "      <td>67</td>\n",
              "      <td>KA38YZ6785</td>\n",
              "      <td>Fraud</td>\n",
              "    </tr>\n",
              "    <tr>\n",
              "      <th>13</th>\n",
              "      <td>14</td>\n",
              "      <td>1/19/2023 4:00</td>\n",
              "      <td>SUV</td>\n",
              "      <td>FTG-014-KJH-872</td>\n",
              "      <td>B-102</td>\n",
              "      <td>Regular</td>\n",
              "      <td>Large</td>\n",
              "      <td>180</td>\n",
              "      <td>180</td>\n",
              "      <td>13.059816123454882, 77.77068662374292</td>\n",
              "      <td>98</td>\n",
              "      <td>KA14AB0123</td>\n",
              "      <td>Not Fraud</td>\n",
              "    </tr>\n",
              "    <tr>\n",
              "      <th>14</th>\n",
              "      <td>15</td>\n",
              "      <td>1/20/2023 8:30</td>\n",
              "      <td>Bus</td>\n",
              "      <td>FTG-055-DCV-543</td>\n",
              "      <td>A-101</td>\n",
              "      <td>Express</td>\n",
              "      <td>Large</td>\n",
              "      <td>350</td>\n",
              "      <td>120</td>\n",
              "      <td>13.059816123454882, 77.77068662374292</td>\n",
              "      <td>50</td>\n",
              "      <td>KA40CD4557</td>\n",
              "      <td>Fraud</td>\n",
              "    </tr>\n",
              "    <tr>\n",
              "      <th>15</th>\n",
              "      <td>16</td>\n",
              "      <td>1/21/2023 13:10</td>\n",
              "      <td>Car</td>\n",
              "      <td>FTG-066-NBH-210</td>\n",
              "      <td>B-102</td>\n",
              "      <td>Regular</td>\n",
              "      <td>Small</td>\n",
              "      <td>120</td>\n",
              "      <td>90</td>\n",
              "      <td>13.059816123454882, 77.77068662374292</td>\n",
              "      <td>75</td>\n",
              "      <td>KA17EF8801</td>\n",
              "      <td>Fraud</td>\n",
              "    </tr>\n",
              "    <tr>\n",
              "      <th>16</th>\n",
              "      <td>17</td>\n",
              "      <td>1/22/2023 16:45</td>\n",
              "      <td>Motorcycle</td>\n",
              "      <td>NaN</td>\n",
              "      <td>D-104</td>\n",
              "      <td>Regular</td>\n",
              "      <td>Small</td>\n",
              "      <td>0</td>\n",
              "      <td>0</td>\n",
              "      <td>13.059816123454882, 77.77068662374292</td>\n",
              "      <td>62</td>\n",
              "      <td>KA20GH1345</td>\n",
              "      <td>Not Fraud</td>\n",
              "    </tr>\n",
              "    <tr>\n",
              "      <th>17</th>\n",
              "      <td>18</td>\n",
              "      <td>1/23/2023 22:25</td>\n",
              "      <td>Truck</td>\n",
              "      <td>FTG-088-EYT-654</td>\n",
              "      <td>C-103</td>\n",
              "      <td>Regular</td>\n",
              "      <td>Large</td>\n",
              "      <td>350</td>\n",
              "      <td>120</td>\n",
              "      <td>13.059816123454882, 77.77068662374292</td>\n",
              "      <td>84</td>\n",
              "      <td>KA53IJ5789</td>\n",
              "      <td>Fraud</td>\n",
              "    </tr>\n",
              "    <tr>\n",
              "      <th>18</th>\n",
              "      <td>19</td>\n",
              "      <td>1/24/2023 2:55</td>\n",
              "      <td>Van</td>\n",
              "      <td>FTG-099-FTD-321</td>\n",
              "      <td>B-102</td>\n",
              "      <td>Express</td>\n",
              "      <td>Medium</td>\n",
              "      <td>140</td>\n",
              "      <td>120</td>\n",
              "      <td>13.059816123454882, 77.77068662374292</td>\n",
              "      <td>55</td>\n",
              "      <td>KA56KL0223</td>\n",
              "      <td>Fraud</td>\n",
              "    </tr>\n",
              "    <tr>\n",
              "      <th>19</th>\n",
              "      <td>20</td>\n",
              "      <td>1/25/2023 7:35</td>\n",
              "      <td>Sedan</td>\n",
              "      <td>FTG-120-TTU-098</td>\n",
              "      <td>A-101</td>\n",
              "      <td>Regular</td>\n",
              "      <td>Medium</td>\n",
              "      <td>160</td>\n",
              "      <td>160</td>\n",
              "      <td>13.059816123454882, 77.77068662374292</td>\n",
              "      <td>80</td>\n",
              "      <td>KA59MN4557</td>\n",
              "      <td>Not Fraud</td>\n",
              "    </tr>\n",
              "  </tbody>\n",
              "</table>\n",
              "</div>"
            ],
            "text/plain": [
              "    Transaction_ID        Timestamp Vehicle_Type         FastagID TollBoothID  \\\n",
              "0                1   1/6/2023 11:20         Bus   FTG-001-ABC-121       A-101   \n",
              "1                2   1/7/2023 14:55          Car  FTG-002-XYZ-451       B-102   \n",
              "2                3   1/8/2023 18:25   Motorcycle              NaN       D-104   \n",
              "3                4    1/9/2023 2:05        Truck  FTG-044-LMN-322       C-103   \n",
              "4                5   1/10/2023 6:35          Van  FTG-505-DEF-652       B-102   \n",
              "5                6  1/11/2023 10:00        Sedan  FTG-066-GHI-987       A-101   \n",
              "6                7  1/12/2023 15:40          SUV  FTG-707-JKL-210       B-102   \n",
              "7                8  1/13/2023 20:15         Bus   FTG-088-UVW-543       C-103   \n",
              "8                9   1/14/2023 1:55          Car  FTG-909-RST-876       A-101   \n",
              "9               10   1/15/2023 7:30   Motorcycle              NaN       D-104   \n",
              "10              11  1/16/2023 12:10        Truck  FTG-021-QWE-765       C-103   \n",
              "11              12  1/17/2023 17:45          Van  FTG-011-ZXC-431       B-102   \n",
              "12              13  1/18/2023 22:20        Sedan  FTG-013-POI-104       A-101   \n",
              "13              14   1/19/2023 4:00          SUV  FTG-014-KJH-872       B-102   \n",
              "14              15   1/20/2023 8:30         Bus   FTG-055-DCV-543       A-101   \n",
              "15              16  1/21/2023 13:10          Car  FTG-066-NBH-210       B-102   \n",
              "16              17  1/22/2023 16:45   Motorcycle              NaN       D-104   \n",
              "17              18  1/23/2023 22:25        Truck  FTG-088-EYT-654       C-103   \n",
              "18              19   1/24/2023 2:55          Van  FTG-099-FTD-321       B-102   \n",
              "19              20   1/25/2023 7:35        Sedan  FTG-120-TTU-098       A-101   \n",
              "\n",
              "   Lane_Type Vehicle_Dimensions  Transaction_Amount  Amount_paid  \\\n",
              "0    Express              Large                 350          120   \n",
              "1    Regular              Small                 120          100   \n",
              "2    Regular              Small                   0            0   \n",
              "3    Regular              Large                 350          120   \n",
              "4    Express             Medium                 140          100   \n",
              "5    Regular             Medium                 160          100   \n",
              "6    Express              Large                 180          160   \n",
              "7    Regular              Large                 350           90   \n",
              "8    Express              Small                 120            0   \n",
              "9    Regular              Small                   0            0   \n",
              "10   Express              Large                 350          120   \n",
              "11   Regular             Medium                 140          120   \n",
              "12   Express             Medium                 160          120   \n",
              "13   Regular              Large                 180          180   \n",
              "14   Express              Large                 350          120   \n",
              "15   Regular              Small                 120           90   \n",
              "16   Regular              Small                   0            0   \n",
              "17   Regular              Large                 350          120   \n",
              "18   Express             Medium                 140          120   \n",
              "19   Regular             Medium                 160          160   \n",
              "\n",
              "                    Geographical_Location  Vehicle_Speed Vehicle_Plate_Number  \\\n",
              "0   13.059816123454882, 77.77068662374292             65           KA11AB1234   \n",
              "1   13.059816123454882, 77.77068662374292             78           KA66CD5678   \n",
              "2   13.059816123454882, 77.77068662374292             53           KA88EF9012   \n",
              "3   13.059816123454882, 77.77068662374292             92           KA11GH3456   \n",
              "4   13.059816123454882, 77.77068662374292             60           KA44IJ6789   \n",
              "5   13.059816123454882, 77.77068662374292            105           KA77KL0123   \n",
              "6   13.059816123454882, 77.77068662374292             70           KA22MN4567   \n",
              "7   13.059816123454882, 77.77068662374292             88           KA21OP8901   \n",
              "8   13.059816123454882, 77.77068662374292             45           KA16QR2345   \n",
              "9   13.059816123454882, 77.77068662374292             72           KA22ST6789   \n",
              "10  13.059816123454882, 77.77068662374292             58           KA12UV0123   \n",
              "11  13.059816123454882, 77.77068662374292             81           KA35WX3454   \n",
              "12  13.059816123454882, 77.77068662374292             67           KA38YZ6785   \n",
              "13  13.059816123454882, 77.77068662374292             98           KA14AB0123   \n",
              "14  13.059816123454882, 77.77068662374292             50           KA40CD4557   \n",
              "15  13.059816123454882, 77.77068662374292             75           KA17EF8801   \n",
              "16  13.059816123454882, 77.77068662374292             62           KA20GH1345   \n",
              "17  13.059816123454882, 77.77068662374292             84           KA53IJ5789   \n",
              "18  13.059816123454882, 77.77068662374292             55           KA56KL0223   \n",
              "19  13.059816123454882, 77.77068662374292             80           KA59MN4557   \n",
              "\n",
              "   Fraud_indicator  \n",
              "0            Fraud  \n",
              "1            Fraud  \n",
              "2        Not Fraud  \n",
              "3            Fraud  \n",
              "4            Fraud  \n",
              "5            Fraud  \n",
              "6            Fraud  \n",
              "7            Fraud  \n",
              "8            Fraud  \n",
              "9        Not Fraud  \n",
              "10           Fraud  \n",
              "11           Fraud  \n",
              "12           Fraud  \n",
              "13       Not Fraud  \n",
              "14           Fraud  \n",
              "15           Fraud  \n",
              "16       Not Fraud  \n",
              "17           Fraud  \n",
              "18           Fraud  \n",
              "19       Not Fraud  "
            ]
          },
          "execution_count": 114,
          "metadata": {},
          "output_type": "execute_result"
        }
      ],
      "source": [
        "df.head(20)"
      ]
    },
    {
      "cell_type": "code",
      "execution_count": 115,
      "metadata": {
        "colab": {
          "base_uri": "https://localhost:8080/"
        },
        "id": "V82veiWLsNFz",
        "outputId": "c3c9362a-1853-4b2c-d0c3-f8f1cfb402b7"
      },
      "outputs": [
        {
          "data": {
            "text/plain": [
              "Index(['Transaction_ID', 'Timestamp', 'Vehicle_Type', 'FastagID',\n",
              "       'TollBoothID', 'Lane_Type', 'Vehicle_Dimensions', 'Transaction_Amount',\n",
              "       'Amount_paid', 'Geographical_Location', 'Vehicle_Speed',\n",
              "       'Vehicle_Plate_Number', 'Fraud_indicator'],\n",
              "      dtype='object')"
            ]
          },
          "execution_count": 115,
          "metadata": {},
          "output_type": "execute_result"
        }
      ],
      "source": [
        "df.columns"
      ]
    },
    {
      "cell_type": "code",
      "execution_count": 116,
      "metadata": {
        "colab": {
          "base_uri": "https://localhost:8080/"
        },
        "id": "nskLQf0VsR2g",
        "outputId": "32baca0c-f411-4280-dc49-94780094f648"
      },
      "outputs": [
        {
          "data": {
            "text/plain": [
              "Transaction_ID             0\n",
              "Timestamp                  0\n",
              "Vehicle_Type               0\n",
              "FastagID                 549\n",
              "TollBoothID                0\n",
              "Lane_Type                  0\n",
              "Vehicle_Dimensions         0\n",
              "Transaction_Amount         0\n",
              "Amount_paid                0\n",
              "Geographical_Location      0\n",
              "Vehicle_Speed              0\n",
              "Vehicle_Plate_Number       0\n",
              "Fraud_indicator            0\n",
              "dtype: int64"
            ]
          },
          "execution_count": 116,
          "metadata": {},
          "output_type": "execute_result"
        }
      ],
      "source": [
        "df.isnull().sum()"
      ]
    },
    {
      "cell_type": "code",
      "execution_count": 117,
      "metadata": {
        "id": "axP660RJt2e2"
      },
      "outputs": [],
      "source": [
        "df=df.dropna(subset=['FastagID'])# to drop column so as to drop fasttag as there are missing values"
      ]
    },
    {
      "cell_type": "code",
      "execution_count": 118,
      "metadata": {
        "colab": {
          "base_uri": "https://localhost:8080/"
        },
        "id": "haSzoBN68VOw",
        "outputId": "312315a1-97ca-4c08-cf66-bb61e403db2c"
      },
      "outputs": [
        {
          "data": {
            "text/plain": [
              "Transaction_ID           0\n",
              "Timestamp                0\n",
              "Vehicle_Type             0\n",
              "FastagID                 0\n",
              "TollBoothID              0\n",
              "Lane_Type                0\n",
              "Vehicle_Dimensions       0\n",
              "Transaction_Amount       0\n",
              "Amount_paid              0\n",
              "Geographical_Location    0\n",
              "Vehicle_Speed            0\n",
              "Vehicle_Plate_Number     0\n",
              "Fraud_indicator          0\n",
              "dtype: int64"
            ]
          },
          "execution_count": 118,
          "metadata": {},
          "output_type": "execute_result"
        }
      ],
      "source": [
        "df.isnull().sum()"
      ]
    },
    {
      "cell_type": "code",
      "execution_count": 119,
      "metadata": {
        "colab": {
          "base_uri": "https://localhost:8080/"
        },
        "id": "ZiYQQ7Dg8jve",
        "outputId": "2a6fa63c-eaee-40d2-f2e8-ee9f569f0bdc"
      },
      "outputs": [
        {
          "name": "stderr",
          "output_type": "stream",
          "text": [
            "C:\\Users\\kunal\\AppData\\Local\\Temp\\ipykernel_14492\\766710655.py:1: SettingWithCopyWarning: \n",
            "A value is trying to be set on a copy of a slice from a DataFrame.\n",
            "Try using .loc[row_indexer,col_indexer] = value instead\n",
            "\n",
            "See the caveats in the documentation: https://pandas.pydata.org/pandas-docs/stable/user_guide/indexing.html#returning-a-view-versus-a-copy\n",
            "  df['Timestamp'] = pd.to_datetime(df['Timestamp'])\n"
          ]
        }
      ],
      "source": [
        "df['Timestamp'] = pd.to_datetime(df['Timestamp'])"
      ]
    },
    {
      "cell_type": "markdown",
      "metadata": {
        "id": "cvUYsuEG_KkE"
      },
      "source": [
        "### Splitting and training the dataset\n"
      ]
    },
    {
      "cell_type": "code",
      "execution_count": 126,
      "metadata": {
        "id": "BPy1epjO_SEB"
      },
      "outputs": [],
      "source": [
        "from sklearn.model_selection import train_test_split\n",
        "selected_features=['Transaction_Amount','Amount_paid']\n",
        "X = df[selected_features]\n",
        "y = df['Fraud_indicator']\n",
        "X_train, X_test, y_train, y_test = train_test_split(X, y, test_size=TEST_SIZE, random_state=RANDOM_STATE)"
      ]
    },
    {
      "cell_type": "code",
      "execution_count": 127,
      "metadata": {
        "id": "3UKUBNHiV3FB"
      },
      "outputs": [],
      "source": [
        "#Scaling and encoding output\n",
        "from sklearn.preprocessing import StandardScaler\n",
        "scaler = StandardScaler()\n",
        "X_train = scaler.fit_transform(X_train)\n",
        "X_test = scaler.transform(X_test)\n",
        "from sklearn.preprocessing import LabelEncoder\n",
        "label_encoder = LabelEncoder()\n",
        "y_train = label_encoder.fit_transform(y_train)\n",
        "y_test = label_encoder.transform(y_test)"
      ]
    },
    {
      "cell_type": "markdown",
      "metadata": {
        "id": "_0O7wEGUadkk"
      },
      "source": [
        "Applying Neural Network Algorithm"
      ]
    },
    {
      "cell_type": "code",
      "execution_count": 128,
      "metadata": {
        "id": "r2H192McbUjq"
      },
      "outputs": [],
      "source": [
        "from tensorflow.keras import Sequential\n",
        "from tensorflow.keras.layers import Dense"
      ]
    },
    {
      "cell_type": "code",
      "execution_count": 129,
      "metadata": {
        "id": "2X2EFc3faccM"
      },
      "outputs": [],
      "source": [
        "# Neural network network\n",
        "model=Sequential()\n",
        "model.add(Dense(32, activation='relu', input_shape=(X_train.shape[1],)))\n",
        "model.add(Dense(16, activation='relu'))\n",
        "model.add(Dense(1, activation='sigmoid'))"
      ]
    },
    {
      "cell_type": "code",
      "execution_count": 130,
      "metadata": {
        "colab": {
          "base_uri": "https://localhost:8080/"
        },
        "id": "TVGUYWzhcN3h",
        "outputId": "440c1973-f739-4fba-fd55-bd98a657c6e4"
      },
      "outputs": [
        {
          "name": "stdout",
          "output_type": "stream",
          "text": [
            "Model: \"sequential_3\"\n",
            "_________________________________________________________________\n",
            " Layer (type)                Output Shape              Param #   \n",
            "=================================================================\n",
            " dense_9 (Dense)             (None, 32)                96        \n",
            "                                                                 \n",
            " dense_10 (Dense)            (None, 16)                528       \n",
            "                                                                 \n",
            " dense_11 (Dense)            (None, 1)                 17        \n",
            "                                                                 \n",
            "=================================================================\n",
            "Total params: 641\n",
            "Trainable params: 641\n",
            "Non-trainable params: 0\n",
            "_________________________________________________________________\n"
          ]
        }
      ],
      "source": [
        "model.summary()\n",
        "model.compile(optimizer='adam',loss='binary_crossentropy',metrics=['accuracy'])"
      ]
    },
    {
      "cell_type": "code",
      "execution_count": 131,
      "metadata": {
        "colab": {
          "base_uri": "https://localhost:8080/"
        },
        "id": "5mjF_VnScnMq",
        "outputId": "949b19b5-b24e-44bf-c9d3-1453e91f5e42"
      },
      "outputs": [
        {
          "name": "stdout",
          "output_type": "stream",
          "text": [
            "Epoch 1/20\n",
            "89/89 [==============================] - 3s 16ms/step - loss: 0.4471 - accuracy: 0.8388 - val_loss: 0.3814 - val_accuracy: 0.8272\n",
            "Epoch 2/20\n",
            "89/89 [==============================] - 1s 8ms/step - loss: 0.2960 - accuracy: 0.8754 - val_loss: 0.2638 - val_accuracy: 0.8848\n",
            "Epoch 3/20\n",
            "89/89 [==============================] - 1s 7ms/step - loss: 0.2118 - accuracy: 0.9185 - val_loss: 0.1844 - val_accuracy: 0.9185\n",
            "Epoch 4/20\n",
            "89/89 [==============================] - 1s 8ms/step - loss: 0.1600 - accuracy: 0.9477 - val_loss: 0.1377 - val_accuracy: 0.9522\n",
            "Epoch 5/20\n",
            "89/89 [==============================] - 1s 8ms/step - loss: 0.1314 - accuracy: 0.9607 - val_loss: 0.1112 - val_accuracy: 0.9522\n",
            "Epoch 6/20\n",
            "89/89 [==============================] - 1s 8ms/step - loss: 0.1117 - accuracy: 0.9652 - val_loss: 0.0959 - val_accuracy: 0.9677\n",
            "Epoch 7/20\n",
            "89/89 [==============================] - 1s 8ms/step - loss: 0.1002 - accuracy: 0.9782 - val_loss: 0.0825 - val_accuracy: 0.9789\n",
            "Epoch 8/20\n",
            "89/89 [==============================] - 1s 8ms/step - loss: 0.0930 - accuracy: 0.9817 - val_loss: 0.0749 - val_accuracy: 0.9817\n",
            "Epoch 9/20\n",
            "89/89 [==============================] - 1s 11ms/step - loss: 0.0868 - accuracy: 0.9842 - val_loss: 0.0707 - val_accuracy: 0.9789\n",
            "Epoch 10/20\n",
            "89/89 [==============================] - 1s 9ms/step - loss: 0.0831 - accuracy: 0.9842 - val_loss: 0.0627 - val_accuracy: 0.9817\n",
            "Epoch 11/20\n",
            "89/89 [==============================] - 1s 9ms/step - loss: 0.0803 - accuracy: 0.9849 - val_loss: 0.0627 - val_accuracy: 0.9817\n",
            "Epoch 12/20\n",
            "89/89 [==============================] - 1s 9ms/step - loss: 0.0762 - accuracy: 0.9849 - val_loss: 0.0553 - val_accuracy: 0.9817\n",
            "Epoch 13/20\n",
            "89/89 [==============================] - 1s 9ms/step - loss: 0.0729 - accuracy: 0.9849 - val_loss: 0.0525 - val_accuracy: 0.9817\n",
            "Epoch 14/20\n",
            "89/89 [==============================] - 1s 8ms/step - loss: 0.0707 - accuracy: 0.9849 - val_loss: 0.0505 - val_accuracy: 0.9817\n",
            "Epoch 15/20\n",
            "89/89 [==============================] - 1s 8ms/step - loss: 0.0678 - accuracy: 0.9849 - val_loss: 0.0485 - val_accuracy: 0.9817\n",
            "Epoch 16/20\n",
            "89/89 [==============================] - 1s 8ms/step - loss: 0.0653 - accuracy: 0.9853 - val_loss: 0.0458 - val_accuracy: 0.9817\n",
            "Epoch 17/20\n",
            "89/89 [==============================] - 1s 9ms/step - loss: 0.0634 - accuracy: 0.9863 - val_loss: 0.0437 - val_accuracy: 0.9860\n",
            "Epoch 18/20\n",
            "89/89 [==============================] - 1s 8ms/step - loss: 0.0607 - accuracy: 0.9884 - val_loss: 0.0422 - val_accuracy: 0.9817\n",
            "Epoch 19/20\n",
            "89/89 [==============================] - 1s 8ms/step - loss: 0.0584 - accuracy: 0.9874 - val_loss: 0.0415 - val_accuracy: 0.9930\n",
            "Epoch 20/20\n",
            "89/89 [==============================] - 1s 8ms/step - loss: 0.0560 - accuracy: 0.9895 - val_loss: 0.0387 - val_accuracy: 0.9860\n"
          ]
        }
      ],
      "source": [
        "history = model.fit(X_train,y_train, epochs=EPOCHS , batch_size=BATCH_SIZE, validation_split=TEST_SIZE)"
      ]
    },
    {
      "cell_type": "code",
      "execution_count": 132,
      "metadata": {},
      "outputs": [
        {
          "name": "stdout",
          "output_type": "stream",
          "text": [
            "28/28 [==============================] - 0s 4ms/step\n"
          ]
        },
        {
          "data": {
            "text/plain": [
              "(891, 1)"
            ]
          },
          "execution_count": 132,
          "metadata": {},
          "output_type": "execute_result"
        }
      ],
      "source": [
        "y_pred = model.predict(X_test)\n",
        "y_pred.shape"
      ]
    },
    {
      "cell_type": "code",
      "execution_count": 133,
      "metadata": {},
      "outputs": [
        {
          "data": {
            "text/html": [
              "<div>\n",
              "<style scoped>\n",
              "    .dataframe tbody tr th:only-of-type {\n",
              "        vertical-align: middle;\n",
              "    }\n",
              "\n",
              "    .dataframe tbody tr th {\n",
              "        vertical-align: top;\n",
              "    }\n",
              "\n",
              "    .dataframe thead th {\n",
              "        text-align: right;\n",
              "    }\n",
              "</style>\n",
              "<table border=\"1\" class=\"dataframe\">\n",
              "  <thead>\n",
              "    <tr style=\"text-align: right;\">\n",
              "      <th></th>\n",
              "      <th>loss</th>\n",
              "      <th>accuracy</th>\n",
              "      <th>val_loss</th>\n",
              "      <th>val_accuracy</th>\n",
              "    </tr>\n",
              "  </thead>\n",
              "  <tbody>\n",
              "    <tr>\n",
              "      <th>0</th>\n",
              "      <td>0.447149</td>\n",
              "      <td>0.838834</td>\n",
              "      <td>0.381419</td>\n",
              "      <td>0.827247</td>\n",
              "    </tr>\n",
              "    <tr>\n",
              "      <th>1</th>\n",
              "      <td>0.295965</td>\n",
              "      <td>0.875351</td>\n",
              "      <td>0.263767</td>\n",
              "      <td>0.884831</td>\n",
              "    </tr>\n",
              "    <tr>\n",
              "      <th>2</th>\n",
              "      <td>0.211805</td>\n",
              "      <td>0.918539</td>\n",
              "      <td>0.184427</td>\n",
              "      <td>0.918539</td>\n",
              "    </tr>\n",
              "    <tr>\n",
              "      <th>3</th>\n",
              "      <td>0.159959</td>\n",
              "      <td>0.947683</td>\n",
              "      <td>0.137660</td>\n",
              "      <td>0.952247</td>\n",
              "    </tr>\n",
              "    <tr>\n",
              "      <th>4</th>\n",
              "      <td>0.131366</td>\n",
              "      <td>0.960674</td>\n",
              "      <td>0.111181</td>\n",
              "      <td>0.952247</td>\n",
              "    </tr>\n",
              "  </tbody>\n",
              "</table>\n",
              "</div>"
            ],
            "text/plain": [
              "       loss  accuracy  val_loss  val_accuracy\n",
              "0  0.447149  0.838834  0.381419      0.827247\n",
              "1  0.295965  0.875351  0.263767      0.884831\n",
              "2  0.211805  0.918539  0.184427      0.918539\n",
              "3  0.159959  0.947683  0.137660      0.952247\n",
              "4  0.131366  0.960674  0.111181      0.952247"
            ]
          },
          "execution_count": 133,
          "metadata": {},
          "output_type": "execute_result"
        }
      ],
      "source": [
        "loss_df = pd.DataFrame(history.history)\n",
        "loss_df.head()"
      ]
    },
    {
      "cell_type": "code",
      "execution_count": 134,
      "metadata": {},
      "outputs": [
        {
          "data": {
            "image/png": "[encoded data removed]",
            "text/plain": [
              "<Figure size 640x480 with 1 Axes>"
            ]
          },
          "metadata": {},
          "output_type": "display_data"
        }
      ],
      "source": [
        "loss_df.plot(y=['loss', 'val_loss'])\n",
        "plt.legend(title='Model Loss')\n",
        "plt.xlabel('Epochs')\n",
        "plt.ylabel('Loss')\n",
        "plt.title('Training and Validation Loss')\n",
        "plt.show()"
      ]
    },
    {
      "cell_type": "code",
      "execution_count": 135,
      "metadata": {},
      "outputs": [
        {
          "data": {
            "image/png": "[encoded data removed]",
            "text/plain": [
              "<Figure size 640x480 with 1 Axes>"
            ]
          },
          "metadata": {},
          "output_type": "display_data"
        }
      ],
      "source": [
        "loss_df.plot(y=['accuracy', 'val_accuracy'])\n",
        "plt.legend(title='Model Accuracy')\n",
        "plt.xlabel('Epochs')\n",
        "plt.ylabel('Accuracy')\n",
        "plt.title('Training and Validation Accuracy')\n",
        "plt.show()"
      ]
    },
    {
      "cell_type": "markdown",
      "metadata": {},
      "source": [
        "#### Importing libraries and checking accuracy"
      ]
    },
    {
      "cell_type": "code",
      "execution_count": 136,
      "metadata": {},
      "outputs": [],
      "source": [
        "from sklearn.metrics import accuracy_score, classification_report, confusion_matrix"
      ]
    },
    {
      "cell_type": "code",
      "execution_count": 137,
      "metadata": {},
      "outputs": [
        {
          "name": "stdout",
          "output_type": "stream",
          "text": [
            "28/28 [==============================] - 0s 5ms/step\n"
          ]
        }
      ],
      "source": [
        "y_pred_prob = model.predict(X_test)\n",
        "\n",
        "# Convert probabilities to binary predictions\n",
        "y_pred = np.round(y_pred_prob)"
      ]
    },
    {
      "cell_type": "code",
      "execution_count": 138,
      "metadata": {},
      "outputs": [
        {
          "data": {
            "text/plain": [
              "0.9842873176206509"
            ]
          },
          "execution_count": 138,
          "metadata": {},
          "output_type": "execute_result"
        }
      ],
      "source": [
        "accuracy_score(y_test, y_pred)"
      ]
    },
    {
      "cell_type": "code",
      "execution_count": 139,
      "metadata": {},
      "outputs": [
        {
          "name": "stdout",
          "output_type": "stream",
          "text": [
            "              precision    recall  f1-score   support\n",
            "\n",
            "           0       0.23      1.00      0.37       201\n",
            "           1       0.00      0.00      0.00       690\n",
            "\n",
            "    accuracy                           0.23       891\n",
            "   macro avg       0.11      0.50      0.18       891\n",
            "weighted avg       0.05      0.23      0.08       891\n",
            "\n"
          ]
        },
        {
          "name": "stderr",
          "output_type": "stream",
          "text": [
            "c:\\Users\\kunal\\anaconda3\\envs\\tf-new\\lib\\site-packages\\sklearn\\metrics\\_classification.py:1517: UndefinedMetricWarning: Precision is ill-defined and being set to 0.0 in labels with no predicted samples. Use `zero_division` parameter to control this behavior.\n",
            "  _warn_prf(average, modifier, f\"{metric.capitalize()} is\", len(result))\n",
            "c:\\Users\\kunal\\anaconda3\\envs\\tf-new\\lib\\site-packages\\sklearn\\metrics\\_classification.py:1517: UndefinedMetricWarning: Precision is ill-defined and being set to 0.0 in labels with no predicted samples. Use `zero_division` parameter to control this behavior.\n",
            "  _warn_prf(average, modifier, f\"{metric.capitalize()} is\", len(result))\n",
            "c:\\Users\\kunal\\anaconda3\\envs\\tf-new\\lib\\site-packages\\sklearn\\metrics\\_classification.py:1517: UndefinedMetricWarning: Precision is ill-defined and being set to 0.0 in labels with no predicted samples. Use `zero_division` parameter to control this behavior.\n",
            "  _warn_prf(average, modifier, f\"{metric.capitalize()} is\", len(result))\n"
          ]
        }
      ],
      "source": [
        "print(classification_report(y_test,y_pred.argmax(axis=1)))"
      ]
    },
    {
      "cell_type": "code",
      "execution_count": 140,
      "metadata": {},
      "outputs": [
        {
          "data": {
            "text/plain": [
              "array([[201,   0],\n",
              "       [690,   0]], dtype=int64)"
            ]
          },
          "execution_count": 140,
          "metadata": {},
          "output_type": "execute_result"
        }
      ],
      "source": [
        "confusion_matrix(y_test,y_pred.argmax(axis=1))"
      ]
    },
    {
      "cell_type": "code",
      "execution_count": 141,
      "metadata": {},
      "outputs": [
        {
          "name": "stdout",
          "output_type": "stream",
          "text": [
            "28/28 [==============================] - 0s 5ms/step\n"
          ]
        }
      ],
      "source": [
        "# Generate predictions\n",
        "predictions = (model.predict(X_test) > 0.5).astype(\"int32\")\n",
        "\n",
        "# Save predictions to CSV\n",
        "output = pd.DataFrame({'Actual': y_test, 'Predicted': predictions.flatten()})\n",
        "output.to_csv('prediction.csv', index=False)"
      ]
    },
    {
      "cell_type": "code",
      "execution_count": null,
      "metadata": {},
      "outputs": [],
      "source": []
    }
  ],
  "metadata": {
    "colab": {
      "provenance": []
    },
    "kernelspec": {
      "display_name": "Python 3",
      "name": "python3"
    },
    "language_info": {
      "codemirror_mode": {
        "name": "ipython",
        "version": 3
      },
      "file_extension": ".py",
      "mimetype": "text/x-python",
      "name": "python",
      "nbconvert_exporter": "python",
      "pygments_lexer": "ipython3",
      "version": "3.9.18"
    }
  },
  "nbformat": 4,
  "nbformat_minor": 0
}
